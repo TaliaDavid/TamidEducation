{
 "cells": [
  {
   "cell_type": "code",
   "execution_count": 37,
   "id": "9409314b-d4c6-4c9d-b3e9-afac7131eabd",
   "metadata": {},
   "outputs": [],
   "source": [
    "import csv"
   ]
  },
  {
   "cell_type": "code",
   "execution_count": 38,
   "id": "115bf5b3-ed59-4b35-ac14-93ff80a51479",
   "metadata": {},
   "outputs": [],
   "source": [
    "import pandas as pd"
   ]
  },
  {
   "cell_type": "code",
   "execution_count": 39,
   "id": "81c13794-7607-4184-b1ae-5a1e25a42880",
   "metadata": {},
   "outputs": [],
   "source": [
    "import json"
   ]
  },
  {
   "cell_type": "code",
   "execution_count": 40,
   "id": "e7aaa8df-567e-4999-8950-b400bd9bd644",
   "metadata": {},
   "outputs": [],
   "source": [
    "data = json.load(open('Friends.json'))\n"
   ]
  },
  {
   "cell_type": "code",
   "execution_count": 41,
   "id": "2f53b8f3-9473-41d8-a735-c5326ce01dbb",
   "metadata": {},
   "outputs": [
    {
     "name": "stdout",
     "output_type": "stream",
     "text": [
      "[{'Age': 19, 'Lastname': 'Sausen', 'Name': 'Maddie', 'School': 'Hunter'}, {'Age': 19, 'Lastname': 'Maryles', 'Name': 'Chuckie', 'School': 'Cornell'}, {'Age': 19, 'Lastname': 'Slasky', 'Name': 'Bean', 'School': 'Stern'}, {'Age': 19, 'Lastname': 'Fried', 'Name': 'Gilly', 'School': 'Maryland'}, {'Age': 19, 'Lastname': 'Goldstein', 'Name': 'Maya', 'School': 'Hunter'}]\n"
     ]
    }
   ],
   "source": [
    "print(data)"
   ]
  },
  {
   "cell_type": "code",
   "execution_count": 43,
   "id": "0a722a39-ee53-4a01-b359-bbc03df93970",
   "metadata": {},
   "outputs": [],
   "source": [
    "\n",
    "data_file = open(\"Friends.csv\", \"w\")\n",
    "csv_writer = csv.writer(data_file)\n",
    "csv_writer.writerow(data[0].keys())\n",
    "for item in data:\n",
    "    csv_writer.writerow(item.values())\n",
    "data_file.close()"
   ]
  },
  {
   "cell_type": "code",
   "execution_count": 44,
   "id": "46ce906c-36a4-46b9-9f64-f669881cd70a",
   "metadata": {},
   "outputs": [
    {
     "data": {
      "text/html": [
       "<div>\n",
       "<style scoped>\n",
       "    .dataframe tbody tr th:only-of-type {\n",
       "        vertical-align: middle;\n",
       "    }\n",
       "\n",
       "    .dataframe tbody tr th {\n",
       "        vertical-align: top;\n",
       "    }\n",
       "\n",
       "    .dataframe thead th {\n",
       "        text-align: right;\n",
       "    }\n",
       "</style>\n",
       "<table border=\"1\" class=\"dataframe\">\n",
       "  <thead>\n",
       "    <tr style=\"text-align: right;\">\n",
       "      <th></th>\n",
       "      <th>Age</th>\n",
       "      <th>Lastname</th>\n",
       "      <th>Name</th>\n",
       "      <th>School</th>\n",
       "    </tr>\n",
       "  </thead>\n",
       "  <tbody>\n",
       "    <tr>\n",
       "      <th>0</th>\n",
       "      <td>19</td>\n",
       "      <td>Sausen</td>\n",
       "      <td>Maddie</td>\n",
       "      <td>Hunter</td>\n",
       "    </tr>\n",
       "    <tr>\n",
       "      <th>1</th>\n",
       "      <td>19</td>\n",
       "      <td>Maryles</td>\n",
       "      <td>Chuckie</td>\n",
       "      <td>Cornell</td>\n",
       "    </tr>\n",
       "    <tr>\n",
       "      <th>2</th>\n",
       "      <td>19</td>\n",
       "      <td>Slasky</td>\n",
       "      <td>Bean</td>\n",
       "      <td>Stern</td>\n",
       "    </tr>\n",
       "    <tr>\n",
       "      <th>3</th>\n",
       "      <td>19</td>\n",
       "      <td>Fried</td>\n",
       "      <td>Gilly</td>\n",
       "      <td>Maryland</td>\n",
       "    </tr>\n",
       "    <tr>\n",
       "      <th>4</th>\n",
       "      <td>19</td>\n",
       "      <td>Goldstein</td>\n",
       "      <td>Maya</td>\n",
       "      <td>Hunter</td>\n",
       "    </tr>\n",
       "  </tbody>\n",
       "</table>\n",
       "</div>"
      ],
      "text/plain": [
       "   Age   Lastname     Name    School\n",
       "0   19     Sausen   Maddie    Hunter\n",
       "1   19    Maryles  Chuckie   Cornell\n",
       "2   19     Slasky     Bean     Stern\n",
       "3   19      Fried    Gilly  Maryland\n",
       "4   19  Goldstein     Maya    Hunter"
      ]
     },
     "execution_count": 44,
     "metadata": {},
     "output_type": "execute_result"
    }
   ],
   "source": [
    "df = pd.read_csv(\"Friends.csv\")\n",
    "df"
   ]
  },
  {
   "cell_type": "code",
   "execution_count": 45,
   "id": "41ac17f8-2376-4a37-915e-b59c67adb189",
   "metadata": {},
   "outputs": [
    {
     "name": "stdout",
     "output_type": "stream",
     "text": [
      "0    19\n",
      "1    19\n",
      "2    19\n",
      "3    19\n",
      "4    19\n",
      "Name: Age, dtype: int64\n"
     ]
    }
   ],
   "source": [
    "age = df[\"Age\"]\n",
    "print (age)"
   ]
  },
  {
   "cell_type": "code",
   "execution_count": null,
   "id": "42c50ca1-4e61-46e9-8ec2-a8f2402fd444",
   "metadata": {},
   "outputs": [],
   "source": []
  }
 ],
 "metadata": {
  "kernelspec": {
   "display_name": "Python 3",
   "language": "python",
   "name": "python3"
  },
  "language_info": {
   "codemirror_mode": {
    "name": "ipython",
    "version": 3
   },
   "file_extension": ".py",
   "mimetype": "text/x-python",
   "name": "python",
   "nbconvert_exporter": "python",
   "pygments_lexer": "ipython3",
   "version": "3.8.8"
  }
 },
 "nbformat": 4,
 "nbformat_minor": 5
}
